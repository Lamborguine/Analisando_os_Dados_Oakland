{
  "nbformat": 4,
  "nbformat_minor": 0,
  "metadata": {
    "colab": {
      "provenance": []
    },
    "kernelspec": {
      "name": "python3",
      "display_name": "Python 3"
    }
  },
  "cells": [
    {
      "cell_type": "code",
      "metadata": {
        "id": "Vhp2wMPgJ6zX"
      },
      "source": [
        "# importar os pacotes necessarios\n",
        "import pandas as pd\n",
        "import matplotlib.pyplot as plt"
      ],
      "execution_count": null,
      "outputs": []
    },
    {
      "cell_type": "markdown",
      "metadata": {
        "id": "0zxQHhIUDF_2"
      },
      "source": [
        "## Obtenção dos Dados\n"
      ]
    },
    {
      "cell_type": "code",
      "metadata": {
        "id": "tUmoAT8DLQ5T",
        "colab": {
          "base_uri": "https://localhost:8080/",
          "height": 206
        },
        "outputId": "85cb0c34-dc3d-43e5-aea3-f362ae7d7992"
      },
      "source": [
        "# importar o arquivo listings.csv para um DataFrame\n",
        "df = pd.read_csv('/content/airbnb.csv', delimiter=';')\n",
        "\n",
        "# mostrar as 5 primeiras entradas\n",
        "df.head()"
      ],
      "execution_count": null,
      "outputs": [
        {
          "output_type": "execute_result",
          "data": {
            "text/plain": [
              "                            nome  cômodos          bairro estrelas  \\\n",
              "0     Apartamento em João Pessoa  3 camas     João Pessoa     4,83   \n",
              "1     Apartamento em João Pessoa  2 camas     João Pessoa     4,93   \n",
              "2     Apartamento em João Pessoa  2 camas     João Pessoa        0   \n",
              "3     Apartamento em João Pessoa   1 cama     João Pessoa      5,0   \n",
              "4  Apartamento em Jardim Oceania  3 camas  Jardim Oceania     4,94   \n",
              "\n",
              "  tipoAcomodacao   preço  \n",
              "0    Apartamento  R$197   \n",
              "1    Apartamento  R$174   \n",
              "2    Apartamento  R$348   \n",
              "3    Apartamento  R$150   \n",
              "4    Apartamento  R$145   "
            ],
            "text/html": [
              "\n",
              "  <div id=\"df-04a7f814-2ea4-4201-98ac-7808a3cc2619\">\n",
              "    <div class=\"colab-df-container\">\n",
              "      <div>\n",
              "<style scoped>\n",
              "    .dataframe tbody tr th:only-of-type {\n",
              "        vertical-align: middle;\n",
              "    }\n",
              "\n",
              "    .dataframe tbody tr th {\n",
              "        vertical-align: top;\n",
              "    }\n",
              "\n",
              "    .dataframe thead th {\n",
              "        text-align: right;\n",
              "    }\n",
              "</style>\n",
              "<table border=\"1\" class=\"dataframe\">\n",
              "  <thead>\n",
              "    <tr style=\"text-align: right;\">\n",
              "      <th></th>\n",
              "      <th>nome</th>\n",
              "      <th>cômodos</th>\n",
              "      <th>bairro</th>\n",
              "      <th>estrelas</th>\n",
              "      <th>tipoAcomodacao</th>\n",
              "      <th>preço</th>\n",
              "    </tr>\n",
              "  </thead>\n",
              "  <tbody>\n",
              "    <tr>\n",
              "      <th>0</th>\n",
              "      <td>Apartamento em João Pessoa</td>\n",
              "      <td>3 camas</td>\n",
              "      <td>João Pessoa</td>\n",
              "      <td>4,83</td>\n",
              "      <td>Apartamento</td>\n",
              "      <td>R$197</td>\n",
              "    </tr>\n",
              "    <tr>\n",
              "      <th>1</th>\n",
              "      <td>Apartamento em João Pessoa</td>\n",
              "      <td>2 camas</td>\n",
              "      <td>João Pessoa</td>\n",
              "      <td>4,93</td>\n",
              "      <td>Apartamento</td>\n",
              "      <td>R$174</td>\n",
              "    </tr>\n",
              "    <tr>\n",
              "      <th>2</th>\n",
              "      <td>Apartamento em João Pessoa</td>\n",
              "      <td>2 camas</td>\n",
              "      <td>João Pessoa</td>\n",
              "      <td>0</td>\n",
              "      <td>Apartamento</td>\n",
              "      <td>R$348</td>\n",
              "    </tr>\n",
              "    <tr>\n",
              "      <th>3</th>\n",
              "      <td>Apartamento em João Pessoa</td>\n",
              "      <td>1 cama</td>\n",
              "      <td>João Pessoa</td>\n",
              "      <td>5,0</td>\n",
              "      <td>Apartamento</td>\n",
              "      <td>R$150</td>\n",
              "    </tr>\n",
              "    <tr>\n",
              "      <th>4</th>\n",
              "      <td>Apartamento em Jardim Oceania</td>\n",
              "      <td>3 camas</td>\n",
              "      <td>Jardim Oceania</td>\n",
              "      <td>4,94</td>\n",
              "      <td>Apartamento</td>\n",
              "      <td>R$145</td>\n",
              "    </tr>\n",
              "  </tbody>\n",
              "</table>\n",
              "</div>\n",
              "      <button class=\"colab-df-convert\" onclick=\"convertToInteractive('df-04a7f814-2ea4-4201-98ac-7808a3cc2619')\"\n",
              "              title=\"Convert this dataframe to an interactive table.\"\n",
              "              style=\"display:none;\">\n",
              "        \n",
              "  <svg xmlns=\"http://www.w3.org/2000/svg\" height=\"24px\"viewBox=\"0 0 24 24\"\n",
              "       width=\"24px\">\n",
              "    <path d=\"M0 0h24v24H0V0z\" fill=\"none\"/>\n",
              "    <path d=\"M18.56 5.44l.94 2.06.94-2.06 2.06-.94-2.06-.94-.94-2.06-.94 2.06-2.06.94zm-11 1L8.5 8.5l.94-2.06 2.06-.94-2.06-.94L8.5 2.5l-.94 2.06-2.06.94zm10 10l.94 2.06.94-2.06 2.06-.94-2.06-.94-.94-2.06-.94 2.06-2.06.94z\"/><path d=\"M17.41 7.96l-1.37-1.37c-.4-.4-.92-.59-1.43-.59-.52 0-1.04.2-1.43.59L10.3 9.45l-7.72 7.72c-.78.78-.78 2.05 0 2.83L4 21.41c.39.39.9.59 1.41.59.51 0 1.02-.2 1.41-.59l7.78-7.78 2.81-2.81c.8-.78.8-2.07 0-2.86zM5.41 20L4 18.59l7.72-7.72 1.47 1.35L5.41 20z\"/>\n",
              "  </svg>\n",
              "      </button>\n",
              "      \n",
              "  <style>\n",
              "    .colab-df-container {\n",
              "      display:flex;\n",
              "      flex-wrap:wrap;\n",
              "      gap: 12px;\n",
              "    }\n",
              "\n",
              "    .colab-df-convert {\n",
              "      background-color: #E8F0FE;\n",
              "      border: none;\n",
              "      border-radius: 50%;\n",
              "      cursor: pointer;\n",
              "      display: none;\n",
              "      fill: #1967D2;\n",
              "      height: 32px;\n",
              "      padding: 0 0 0 0;\n",
              "      width: 32px;\n",
              "    }\n",
              "\n",
              "    .colab-df-convert:hover {\n",
              "      background-color: #E2EBFA;\n",
              "      box-shadow: 0px 1px 2px rgba(60, 64, 67, 0.3), 0px 1px 3px 1px rgba(60, 64, 67, 0.15);\n",
              "      fill: #174EA6;\n",
              "    }\n",
              "\n",
              "    [theme=dark] .colab-df-convert {\n",
              "      background-color: #3B4455;\n",
              "      fill: #D2E3FC;\n",
              "    }\n",
              "\n",
              "    [theme=dark] .colab-df-convert:hover {\n",
              "      background-color: #434B5C;\n",
              "      box-shadow: 0px 1px 3px 1px rgba(0, 0, 0, 0.15);\n",
              "      filter: drop-shadow(0px 1px 2px rgba(0, 0, 0, 0.3));\n",
              "      fill: #FFFFFF;\n",
              "    }\n",
              "  </style>\n",
              "\n",
              "      <script>\n",
              "        const buttonEl =\n",
              "          document.querySelector('#df-04a7f814-2ea4-4201-98ac-7808a3cc2619 button.colab-df-convert');\n",
              "        buttonEl.style.display =\n",
              "          google.colab.kernel.accessAllowed ? 'block' : 'none';\n",
              "\n",
              "        async function convertToInteractive(key) {\n",
              "          const element = document.querySelector('#df-04a7f814-2ea4-4201-98ac-7808a3cc2619');\n",
              "          const dataTable =\n",
              "            await google.colab.kernel.invokeFunction('convertToInteractive',\n",
              "                                                     [key], {});\n",
              "          if (!dataTable) return;\n",
              "\n",
              "          const docLinkHtml = 'Like what you see? Visit the ' +\n",
              "            '<a target=\"_blank\" href=https://colab.research.google.com/notebooks/data_table.ipynb>data table notebook</a>'\n",
              "            + ' to learn more about interactive tables.';\n",
              "          element.innerHTML = '';\n",
              "          dataTable['output_type'] = 'display_data';\n",
              "          await google.colab.output.renderOutput(dataTable, element);\n",
              "          const docLink = document.createElement('div');\n",
              "          docLink.innerHTML = docLinkHtml;\n",
              "          element.appendChild(docLink);\n",
              "        }\n",
              "      </script>\n",
              "    </div>\n",
              "  </div>\n",
              "  "
            ]
          },
          "metadata": {},
          "execution_count": 120
        }
      ]
    },
    {
      "cell_type": "markdown",
      "metadata": {
        "id": "qb5By2nIMS6m"
      },
      "source": [
        "## Análise dos Dados\n"
      ]
    },
    {
      "cell_type": "markdown",
      "metadata": {
        "id": "6-B_qtEaYEd-"
      },
      "source": [
        "### **Q1. Quantos atributos (variáveis) e quantas entradas o nosso conjunto de dados possui? Quais os tipos das variáveis?**"
      ]
    },
    {
      "cell_type": "code",
      "source": [
        "df.shape"
      ],
      "metadata": {
        "colab": {
          "base_uri": "https://localhost:8080/"
        },
        "id": "kQXEv71Y2lQE",
        "outputId": "80993a19-efbb-41a5-bfa8-f30d7d8f4351"
      },
      "execution_count": null,
      "outputs": [
        {
          "output_type": "execute_result",
          "data": {
            "text/plain": [
              "(264, 6)"
            ]
          },
          "metadata": {},
          "execution_count": 121
        }
      ]
    },
    {
      "cell_type": "code",
      "source": [
        "df['preço'] = df['preço'].str.replace('R$', '', regex=False)\n",
        "df['preço'] = df['preço'].astype(float)"
      ],
      "metadata": {
        "id": "eCMf7RTTiM3E"
      },
      "execution_count": null,
      "outputs": []
    },
    {
      "cell_type": "code",
      "metadata": {
        "id": "TFRK0tniLV-G",
        "colab": {
          "base_uri": "https://localhost:8080/"
        },
        "outputId": "e7d668d9-fdc7-41ce-e01f-53229f2a456a"
      },
      "source": [
        "# identificar o volume de dados do DataFrame\n",
        "print(f\"Entradas:\\t {df.shape[0]}\")\n",
        "print(f\"Variáveis:\\t {df.shape[1]}\\n\")\n",
        "print(\"Tipos das Variáveis\\n\")\n",
        "\n",
        "# verificar os tipos de variáveis do dataset\n",
        "df.dtypes\n"
      ],
      "execution_count": null,
      "outputs": [
        {
          "output_type": "stream",
          "name": "stdout",
          "text": [
            "Entradas:\t 264\n",
            "Variáveis:\t 6\n",
            "\n",
            "Tipos das Variáveis\n",
            "\n"
          ]
        },
        {
          "output_type": "execute_result",
          "data": {
            "text/plain": [
              "nome               object\n",
              "cômodos            object\n",
              "bairro             object\n",
              "estrelas           object\n",
              "tipoAcomodacao     object\n",
              "preço             float64\n",
              "dtype: object"
            ]
          },
          "metadata": {},
          "execution_count": 123
        }
      ]
    },
    {
      "cell_type": "markdown",
      "metadata": {
        "id": "iHXvvHIxaoNc"
      },
      "source": [
        "### **Q3. Qual o tipo de distribuição das variáveis?**"
      ]
    },
    {
      "cell_type": "code",
      "metadata": {
        "id": "q2wWSfeRbmBo",
        "colab": {
          "base_uri": "https://localhost:8080/",
          "height": 607
        },
        "outputId": "51e0f9c9-259a-4ee0-d416-e620a59f978a"
      },
      "source": [
        "# plotar o histograma das variáveis numéricas\n",
        "df.hist(bins=12, figsize=(15,10));"
      ],
      "execution_count": null,
      "outputs": [
        {
          "output_type": "display_data",
          "data": {
            "text/plain": [
              "<Figure size 1080x720 with 1 Axes>"
            ],
            "image/png": "[encoded data removed]"
          },
          "metadata": {
            "needs_background": "light"
          }
        }
      ]
    },
    {
      "cell_type": "code",
      "source": [
        "df.describe()"
      ],
      "metadata": {
        "colab": {
          "base_uri": "https://localhost:8080/",
          "height": 300
        },
        "id": "IgqTnsXbQ9Gf",
        "outputId": "75052598-4ab8-45f0-8612-789da9346bbe"
      },
      "execution_count": null,
      "outputs": [
        {
          "output_type": "execute_result",
          "data": {
            "text/plain": [
              "            preço\n",
              "count  264.000000\n",
              "mean   190.246212\n",
              "std     69.564014\n",
              "min     52.000000\n",
              "25%    148.750000\n",
              "50%    186.500000\n",
              "75%    230.000000\n",
              "max    540.000000"
            ],
            "text/html": [
              "\n",
              "  <div id=\"df-e547adda-a665-4965-a8f6-6be8c2b8b5cd\">\n",
              "    <div class=\"colab-df-container\">\n",
              "      <div>\n",
              "<style scoped>\n",
              "    .dataframe tbody tr th:only-of-type {\n",
              "        vertical-align: middle;\n",
              "    }\n",
              "\n",
              "    .dataframe tbody tr th {\n",
              "        vertical-align: top;\n",
              "    }\n",
              "\n",
              "    .dataframe thead th {\n",
              "        text-align: right;\n",
              "    }\n",
              "</style>\n",
              "<table border=\"1\" class=\"dataframe\">\n",
              "  <thead>\n",
              "    <tr style=\"text-align: right;\">\n",
              "      <th></th>\n",
              "      <th>preço</th>\n",
              "    </tr>\n",
              "  </thead>\n",
              "  <tbody>\n",
              "    <tr>\n",
              "      <th>count</th>\n",
              "      <td>264.000000</td>\n",
              "    </tr>\n",
              "    <tr>\n",
              "      <th>mean</th>\n",
              "      <td>190.246212</td>\n",
              "    </tr>\n",
              "    <tr>\n",
              "      <th>std</th>\n",
              "      <td>69.564014</td>\n",
              "    </tr>\n",
              "    <tr>\n",
              "      <th>min</th>\n",
              "      <td>52.000000</td>\n",
              "    </tr>\n",
              "    <tr>\n",
              "      <th>25%</th>\n",
              "      <td>148.750000</td>\n",
              "    </tr>\n",
              "    <tr>\n",
              "      <th>50%</th>\n",
              "      <td>186.500000</td>\n",
              "    </tr>\n",
              "    <tr>\n",
              "      <th>75%</th>\n",
              "      <td>230.000000</td>\n",
              "    </tr>\n",
              "    <tr>\n",
              "      <th>max</th>\n",
              "      <td>540.000000</td>\n",
              "    </tr>\n",
              "  </tbody>\n",
              "</table>\n",
              "</div>\n",
              "      <button class=\"colab-df-convert\" onclick=\"convertToInteractive('df-e547adda-a665-4965-a8f6-6be8c2b8b5cd')\"\n",
              "              title=\"Convert this dataframe to an interactive table.\"\n",
              "              style=\"display:none;\">\n",
              "        \n",
              "  <svg xmlns=\"http://www.w3.org/2000/svg\" height=\"24px\"viewBox=\"0 0 24 24\"\n",
              "       width=\"24px\">\n",
              "    <path d=\"M0 0h24v24H0V0z\" fill=\"none\"/>\n",
              "    <path d=\"M18.56 5.44l.94 2.06.94-2.06 2.06-.94-2.06-.94-.94-2.06-.94 2.06-2.06.94zm-11 1L8.5 8.5l.94-2.06 2.06-.94-2.06-.94L8.5 2.5l-.94 2.06-2.06.94zm10 10l.94 2.06.94-2.06 2.06-.94-2.06-.94-.94-2.06-.94 2.06-2.06.94z\"/><path d=\"M17.41 7.96l-1.37-1.37c-.4-.4-.92-.59-1.43-.59-.52 0-1.04.2-1.43.59L10.3 9.45l-7.72 7.72c-.78.78-.78 2.05 0 2.83L4 21.41c.39.39.9.59 1.41.59.51 0 1.02-.2 1.41-.59l7.78-7.78 2.81-2.81c.8-.78.8-2.07 0-2.86zM5.41 20L4 18.59l7.72-7.72 1.47 1.35L5.41 20z\"/>\n",
              "  </svg>\n",
              "      </button>\n",
              "      \n",
              "  <style>\n",
              "    .colab-df-container {\n",
              "      display:flex;\n",
              "      flex-wrap:wrap;\n",
              "      gap: 12px;\n",
              "    }\n",
              "\n",
              "    .colab-df-convert {\n",
              "      background-color: #E8F0FE;\n",
              "      border: none;\n",
              "      border-radius: 50%;\n",
              "      cursor: pointer;\n",
              "      display: none;\n",
              "      fill: #1967D2;\n",
              "      height: 32px;\n",
              "      padding: 0 0 0 0;\n",
              "      width: 32px;\n",
              "    }\n",
              "\n",
              "    .colab-df-convert:hover {\n",
              "      background-color: #E2EBFA;\n",
              "      box-shadow: 0px 1px 2px rgba(60, 64, 67, 0.3), 0px 1px 3px 1px rgba(60, 64, 67, 0.15);\n",
              "      fill: #174EA6;\n",
              "    }\n",
              "\n",
              "    [theme=dark] .colab-df-convert {\n",
              "      background-color: #3B4455;\n",
              "      fill: #D2E3FC;\n",
              "    }\n",
              "\n",
              "    [theme=dark] .colab-df-convert:hover {\n",
              "      background-color: #434B5C;\n",
              "      box-shadow: 0px 1px 3px 1px rgba(0, 0, 0, 0.15);\n",
              "      filter: drop-shadow(0px 1px 2px rgba(0, 0, 0, 0.3));\n",
              "      fill: #FFFFFF;\n",
              "    }\n",
              "  </style>\n",
              "\n",
              "      <script>\n",
              "        const buttonEl =\n",
              "          document.querySelector('#df-e547adda-a665-4965-a8f6-6be8c2b8b5cd button.colab-df-convert');\n",
              "        buttonEl.style.display =\n",
              "          google.colab.kernel.accessAllowed ? 'block' : 'none';\n",
              "\n",
              "        async function convertToInteractive(key) {\n",
              "          const element = document.querySelector('#df-e547adda-a665-4965-a8f6-6be8c2b8b5cd');\n",
              "          const dataTable =\n",
              "            await google.colab.kernel.invokeFunction('convertToInteractive',\n",
              "                                                     [key], {});\n",
              "          if (!dataTable) return;\n",
              "\n",
              "          const docLinkHtml = 'Like what you see? Visit the ' +\n",
              "            '<a target=\"_blank\" href=https://colab.research.google.com/notebooks/data_table.ipynb>data table notebook</a>'\n",
              "            + ' to learn more about interactive tables.';\n",
              "          element.innerHTML = '';\n",
              "          dataTable['output_type'] = 'display_data';\n",
              "          await google.colab.output.renderOutput(dataTable, element);\n",
              "          const docLink = document.createElement('div');\n",
              "          docLink.innerHTML = docLinkHtml;\n",
              "          element.appendChild(docLink);\n",
              "        }\n",
              "      </script>\n",
              "    </div>\n",
              "  </div>\n",
              "  "
            ]
          },
          "metadata": {},
          "execution_count": 125
        }
      ]
    },
    {
      "cell_type": "markdown",
      "metadata": {
        "id": "7x4aw1j5wNmn"
      },
      "source": [
        "### **Q4. Qual a média dos preços de aluguel?**"
      ]
    },
    {
      "cell_type": "code",
      "metadata": {
        "id": "ff-8gUahLk-C",
        "colab": {
          "base_uri": "https://localhost:8080/"
        },
        "outputId": "7afabd38-c6a9-4d2b-fbf3-0de7b5a53a38"
      },
      "source": [
        "# ver a média da coluna price\n",
        "df.preço.mean()"
      ],
      "execution_count": null,
      "outputs": [
        {
          "output_type": "execute_result",
          "data": {
            "text/plain": [
              "190.24621212121212"
            ]
          },
          "metadata": {},
          "execution_count": 126
        }
      ]
    },
    {
      "cell_type": "code",
      "source": [
        "#Vamos criar um ponto de corte para os precos\n",
        "q1_preço = df.preço.quantile(0.25)\n",
        "q3_preço = df.preço.quantile(0.75)\n",
        "IQR_preço = q3_preço - q1_preço\n",
        "sup_preço = q3_preço + 1.5 * IQR_preço\n",
        "inf_preço = q1_preço - 1.5 * IQR_preço\n",
        "\n",
        "print(f'''Variável preço=> Q1={q1_preço},\n",
        "      Q3={q3_preço},\n",
        "      IQR={IQR_preço},\n",
        "      Limite superior={sup_preço},\n",
        "      Limite inferior={inf_preço}''')"
      ],
      "metadata": {
        "colab": {
          "base_uri": "https://localhost:8080/"
        },
        "id": "v0jN1hXB73PZ",
        "outputId": "b6cc8037-486b-41a7-9012-1285f6ef1671"
      },
      "execution_count": null,
      "outputs": [
        {
          "output_type": "stream",
          "name": "stdout",
          "text": [
            "Variável preço=> Q1=148.75,\n",
            "      Q3=230.0, \n",
            "      IQR=81.25, \n",
            "      Limite superior=351.875, \n",
            "      Limite inferior=26.875\n"
          ]
        }
      ]
    },
    {
      "cell_type": "markdown",
      "source": [
        "Boxplot para price"
      ],
      "metadata": {
        "id": "KNu9aXUDHT4H"
      }
    },
    {
      "cell_type": "code",
      "source": [
        "df.preço.plot(kind='box', vert=False, figsize=(15, 3))\n",
        "\n",
        "# ver quantidade de valores acima de sup_minimum_nights para minimum_nights\n",
        "print(f\"preço: valores acima de {sup_preço} a valores = 0:\")\n",
        "print(f\"{len(df[df.preço > sup_preço])+len(df[df.preço == 0])} entradas\")\n",
        "print(f\"{(len(df[df.preço > sup_preço])+len(df[df.preço == 0])) / df.shape[0]*100:.4}%\")"
      ],
      "metadata": {
        "id": "T7awH6_sGdps",
        "colab": {
          "base_uri": "https://localhost:8080/",
          "height": 263
        },
        "outputId": "ece2b79b-cdf5-443f-e0f5-a55c066c5c57"
      },
      "execution_count": null,
      "outputs": [
        {
          "output_type": "stream",
          "name": "stdout",
          "text": [
            "preço: valores acima de 351.875 a valores = 0:\n",
            "6 entradas\n",
            "2.273%\n"
          ]
        },
        {
          "output_type": "display_data",
          "data": {
            "text/plain": [
              "<Figure size 1080x216 with 1 Axes>"
            ],
            "image/png": "[encoded data removed]"
          },
          "metadata": {
            "needs_background": "light"
          }
        }
      ]
    },
    {
      "cell_type": "code",
      "source": [
        "df_clean = df.copy()\n",
        "df_clean[df_clean.preço > sup_preço].index"
      ],
      "metadata": {
        "id": "UgsMQxGDI8oG",
        "colab": {
          "base_uri": "https://localhost:8080/"
        },
        "outputId": "e960a2da-3f8d-4f4a-c86a-ed25fe5595ee"
      },
      "execution_count": null,
      "outputs": [
        {
          "output_type": "execute_result",
          "data": {
            "text/plain": [
              "Int64Index([88, 109, 189, 218, 240, 245], dtype='int64')"
            ]
          },
          "metadata": {},
          "execution_count": 129
        }
      ]
    },
    {
      "cell_type": "code",
      "source": [
        "#Eliminando linhas com outlayers\n",
        "df_clean = df.copy()\n",
        "df_clean.drop(df_clean[df_clean.preço > sup_preço].index, axis=0, inplace=True)\n",
        "df_clean.drop(df_clean[df_clean.preço == 0].index, axis=0, inplace=True)\n",
        "\n",
        "# Histograma após limpeza dos dados\n",
        "df_clean.hist(bins=15, figsize=(15,10));"
      ],
      "metadata": {
        "id": "zv8Pr3snIkVM",
        "colab": {
          "base_uri": "https://localhost:8080/",
          "height": 607
        },
        "outputId": "d82cc995-9cae-4786-fe3a-eaddc6a1f527"
      },
      "execution_count": null,
      "outputs": [
        {
          "output_type": "display_data",
          "data": {
            "text/plain": [
              "<Figure size 1080x720 with 1 Axes>"
            ],
            "image/png": "[encoded data removed]"
          },
          "metadata": {
            "needs_background": "light"
          }
        }
      ]
    },
    {
      "cell_type": "code",
      "source": [
        "#Boxplot preço após retirar outliers\n",
        "df_clean.preço.plot(kind='box', vert=False, figsize=(15, 3));"
      ],
      "metadata": {
        "id": "EwZbJM9HRnaK",
        "colab": {
          "base_uri": "https://localhost:8080/",
          "height": 211
        },
        "outputId": "077a21b8-7d2b-4ff0-d708-7ed3a84b98fb"
      },
      "execution_count": null,
      "outputs": [
        {
          "output_type": "display_data",
          "data": {
            "text/plain": [
              "<Figure size 1080x216 with 1 Axes>"
            ],
            "image/png": "[encoded data removed]"
          },
          "metadata": {
            "needs_background": "light"
          }
        }
      ]
    },
    {
      "cell_type": "markdown",
      "metadata": {
        "id": "7b6RMWpuHKN-"
      },
      "source": [
        "### **Q7. Qual o tipo de imóvel mais alugado no Airbnb?**"
      ]
    },
    {
      "cell_type": "code",
      "metadata": {
        "id": "ueLPNWvPHgfB",
        "colab": {
          "base_uri": "https://localhost:8080/"
        },
        "outputId": "c9b74bf8-e52d-44b4-a1b5-9eac3d178331"
      },
      "source": [
        "# mostrar a quantidade de cada tipo de imóvel disponível\n",
        "df_clean.tipoAcomodacao.value_counts()"
      ],
      "execution_count": null,
      "outputs": [
        {
          "output_type": "execute_result",
          "data": {
            "text/plain": [
              "Apartamento       199\n",
              "Outro              35\n",
              "Quarto inteiro     24\n",
              "Name: tipoAcomodacao, dtype: int64"
            ]
          },
          "metadata": {},
          "execution_count": 132
        }
      ]
    },
    {
      "cell_type": "code",
      "metadata": {
        "id": "EvwoO-XAHhIm",
        "colab": {
          "base_uri": "https://localhost:8080/"
        },
        "outputId": "9f9cb84d-4f9f-40ea-a8c6-9a1a31ef7c97"
      },
      "source": [
        "# mostrar a porcentagem de cada tipo de imóvel disponível\n",
        "df_clean.tipoAcomodacao.value_counts() / df_clean.shape[0]*100"
      ],
      "execution_count": null,
      "outputs": [
        {
          "output_type": "execute_result",
          "data": {
            "text/plain": [
              "Apartamento       77.131783\n",
              "Outro             13.565891\n",
              "Quarto inteiro     9.302326\n",
              "Name: tipoAcomodacao, dtype: float64"
            ]
          },
          "metadata": {},
          "execution_count": 133
        }
      ]
    },
    {
      "cell_type": "code",
      "source": [
        "tipo_acomodacao = (df_clean.tipoAcomodacao.value_counts()/df_clean.shape[0]*100).sort_values(ascending=False)\n",
        "\n",
        "print(tipo_acomodacao)\n",
        "df_acomodacao = pd.DataFrame([tipo_acomodacao.keys(),tipo_acomodacao.values]).transpose()\n",
        "\n",
        "df_acomodacao.columns=['Tipo_Acomodacao','Porcentagem']\n",
        "\n",
        "fig, ax = plt.subplots(figsize=(10,6))\n",
        "tipo_acomodacao = ax.bar(df_acomodacao['Tipo_Acomodacao'],\n",
        "                         df_acomodacao['Porcentagem'],0.5, label = 'Porcentagem')\n",
        "\n",
        "ax.set_title(\"Aluguel por tipo de imóvel (%)\")\n",
        "ax.set_xlabel(\"Tipo do Imóvel\")\n",
        "ax.set_ylabel(\"%\")\n",
        "\n",
        "plt.tight_layout()"
      ],
      "metadata": {
        "id": "ToqHu3_kW0fz",
        "colab": {
          "base_uri": "https://localhost:8080/",
          "height": 510
        },
        "outputId": "ff61db62-4b43-47bb-8bd4-929a0ca0a549"
      },
      "execution_count": null,
      "outputs": [
        {
          "output_type": "stream",
          "name": "stdout",
          "text": [
            "Apartamento       77.131783\n",
            "Outro             13.565891\n",
            "Quarto inteiro     9.302326\n",
            "Name: tipoAcomodacao, dtype: float64\n"
          ]
        },
        {
          "output_type": "display_data",
          "data": {
            "text/plain": [
              "<Figure size 720x432 with 1 Axes>"
            ],
            "image/png": "[encoded data removed]"
          },
          "metadata": {
            "needs_background": "light"
          }
        }
      ]
    },
    {
      "cell_type": "code",
      "source": [
        "tipo_acomodacao = (df_clean.groupby('tipoAcomodacao').preço.mean().\n",
        "                   sort_values(ascending=False))\n",
        "df_acomodacao = pd.DataFrame([tipo_acomodacao.keys(),tipo_acomodacao.values]).transpose()\n",
        "df_acomodacao.columns=['tipoAcomodacao','Mean']\n",
        "\n",
        "fig, ax = plt.subplots(figsize=(10,6))\n",
        "tipo_acomodacao = ax.bar(df_acomodacao['tipoAcomodacao'],df_acomodacao['Mean'],0.5,\n",
        "                         label = 'Média')\n",
        "\n",
        "\n",
        "ax.set_title(\"Média de preço por tipo de imóvel\")\n",
        "ax.set_xlabel(\"Tipo do Imóvel\")\n",
        "ax.set_ylabel(\"Média de preço\")\n",
        "\n",
        "plt.tight_layout()"
      ],
      "metadata": {
        "id": "SNsJZiMwvh84",
        "colab": {
          "base_uri": "https://localhost:8080/",
          "height": 441
        },
        "outputId": "f45a1bcd-c530-4dde-dfda-522fc2cf7ca7"
      },
      "execution_count": null,
      "outputs": [
        {
          "output_type": "display_data",
          "data": {
            "text/plain": [
              "<Figure size 720x432 with 1 Axes>"
            ],
            "image/png": "[encoded data removed]"
          },
          "metadata": {
            "needs_background": "light"
          }
        }
      ]
    },
    {
      "cell_type": "markdown",
      "metadata": {
        "id": "MFa5NbnLJMcd"
      },
      "source": [
        "### **Q8. Qual a localidade mais cara do dataset?**\n",
        "Uma maneira de se verificar uma variável em função da outra é usando `groupby()`. No caso, queremos comparar os bairros (*neighbourhoods*) a partir do preço de locação.\n"
      ]
    },
    {
      "cell_type": "code",
      "metadata": {
        "id": "MD_xa143JZpi"
      },
      "source": [
        "# ver preços por bairros, na média\n",
        "df_clean.groupby('bairro').preço.mean().sort_values(ascending=False)\n",
        "bairros_media =   df_clean.groupby('bairro').preço.mean().sort_values(ascending=False)\n",
        "bairros_minimo =  df_clean.groupby('bairro').preço.min().sort_values(ascending=False)\n",
        "bairros_maximo =  df_clean.groupby('bairro').preço.max().sort_values(ascending=False)\n",
        "bairros_qt     =  df_clean['bairro'].value_counts()\n"
      ],
      "execution_count": null,
      "outputs": []
    },
    {
      "cell_type": "code",
      "source": [
        "bairro = df_clean.groupby('bairro').preço.mean().sort_values(ascending=False)\n",
        "bairro.drop(index='João Pessoa', inplace=True)\n",
        "bairro = bairro.head().sort_values()\n",
        "df_acomodacao = pd.DataFrame([bairro.keys(),bairro.values]).transpose()\n",
        "df_acomodacao.columns=['Bairro','Mean']\n",
        "\n",
        "fig, ax = plt.subplots(figsize=(10,6))\n",
        "tipo_acomodacao = ax.barh(df_acomodacao['Bairro'],df_acomodacao['Mean'],0.5)\n",
        "\n",
        "ax.set_title(\"Média de preço por bairros\")\n",
        "ax.set_xlabel(\"Média de preço\")\n",
        "ax.set_ylabel(\"Bairros\")\n",
        "ax.set_xlim((0,350))\n",
        "\n",
        "plt.tight_layout()"
      ],
      "metadata": {
        "colab": {
          "base_uri": "https://localhost:8080/",
          "height": 441
        },
        "id": "I4rJLqJ3oaLz",
        "outputId": "0ec1d450-2dfd-410c-fb8b-d8d65e4eb129"
      },
      "execution_count": null,
      "outputs": [
        {
          "output_type": "display_data",
          "data": {
            "text/plain": [
              "<Figure size 720x432 with 1 Axes>"
            ],
            "image/png": "[encoded data removed]"
          },
          "metadata": {
            "needs_background": "light"
          }
        }
      ]
    },
    {
      "cell_type": "code",
      "source": [
        "bairro = (df_clean.groupby('bairro').preço.mean().sort_values(ascending=False))\n",
        "bairro = bairro.tail().sort_values(ascending=False)\n",
        "df_acomodacao = pd.DataFrame([bairro.keys(),bairro.values]).transpose()\n",
        "df_acomodacao.columns=['Bairro','Mean']\n",
        "\n",
        "fig, ax = plt.subplots(figsize=(10,6))\n",
        "tipo_acomodacao = ax.barh(df_acomodacao['Bairro'],df_acomodacao['Mean'],0.5)\n",
        "\n",
        "\n",
        "\n",
        "ax.set_title(\"Média de preço por bairros\")\n",
        "ax.set_xlabel(\"Média de preço\")\n",
        "ax.set_ylabel(\"Bairros\")\n",
        "ax.set_xlim((0,80))\n",
        "\n",
        "plt.tight_layout()"
      ],
      "metadata": {
        "id": "ANIgJFX2-NYu",
        "colab": {
          "base_uri": "https://localhost:8080/",
          "height": 441
        },
        "outputId": "819f2924-4c1e-45e3-927b-f7bfa3df487c"
      },
      "execution_count": null,
      "outputs": [
        {
          "output_type": "display_data",
          "data": {
            "text/plain": [
              "<Figure size 720x432 with 1 Axes>"
            ],
            "image/png": "[encoded data removed]"
          },
          "metadata": {
            "needs_background": "light"
          }
        }
      ]
    },
    {
      "cell_type": "markdown",
      "metadata": {
        "id": "mqc_fLef4sZn"
      },
      "source": [
        "### **Q7. Qual a média de preço por tipo de imóvel?**"
      ]
    },
    {
      "cell_type": "code",
      "source": [
        "df_clean.groupby('tipoAcomodacao').preço.mean().sort_values(ascending=False)"
      ],
      "metadata": {
        "colab": {
          "base_uri": "https://localhost:8080/"
        },
        "id": "yVgKAGCI5BM1",
        "outputId": "a111adbe-2e72-477c-ba3f-27012cd05f4a"
      },
      "execution_count": null,
      "outputs": [
        {
          "output_type": "execute_result",
          "data": {
            "text/plain": [
              "tipoAcomodacao\n",
              "Apartamento       194.060302\n",
              "Outro             186.800000\n",
              "Quarto inteiro     99.916667\n",
              "Name: preço, dtype: float64"
            ]
          },
          "metadata": {},
          "execution_count": 139
        }
      ]
    }
  ]
}